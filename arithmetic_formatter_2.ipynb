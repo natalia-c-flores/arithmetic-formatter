{
 "cells": [
  {
   "cell_type": "code",
   "execution_count": 137,
   "metadata": {},
   "outputs": [],
   "source": [
    "def is_valid(problems):\n",
    "    import re\n",
    "    if len(problems) > 5:\n",
    "        return 'Error: Too many problems.'\n",
    "    for problem in problems:\n",
    "        if re.search('[a-zA-Z]',problem):\n",
    "            return 'Error: Numbers must only contain digits.'\n",
    "        if '*' in problem or '/' in problem:\n",
    "            return \"Error: Operator must be '+' or '-'.\"\n",
    "        for operand in problem.split():\n",
    "            if len(operand) > 4:\n",
    "                return 'Error: Numbers cannot be more than four digits.'\n",
    "    return True"
   ]
  },
  {
   "cell_type": "code",
   "execution_count": 138,
   "metadata": {},
   "outputs": [],
   "source": [
    "def result(problems):\n",
    "    result_list = []\n",
    "    for problem in problems:\n",
    "        operand_1, operator, operand_2 = problem.split()\n",
    "        if operator == '+':\n",
    "            result = int(operand_1) + int(operand_2)\n",
    "        else:\n",
    "            result = int(operand_1) - int(operand_2)\n",
    "        max_width = len(max([operand_1, operand_2], key = len)) + 2\n",
    "        result_list.append(str(result).rjust(max_width, ' '))\n",
    "    return result_list"
   ]
  },
  {
   "cell_type": "code",
   "execution_count": 139,
   "metadata": {},
   "outputs": [],
   "source": [
    "def matrix_arranger (problems):\n",
    "    problems_matrix = []\n",
    "    for problem in problems:\n",
    "        operands_list = problem.split()\n",
    "        dash_line = (len(max(operands_list, key = len)) + 2) * '-'\n",
    "        operands_list.append(dash_line)\n",
    "        max_width = len(dash_line)\n",
    "        operands_list = [operands_list[0].rjust(max_width, ' '), (operands_list[1] + operands_list[2].rjust(max_width-1, ' ')), operands_list[3].rjust(max_width, ' ')]\n",
    "        problems_matrix.append(operands_list)\n",
    "    transposed_matrix = [[problems_matrix[j][i] for j in range(len(problems_matrix))] for i in range(len(problems_matrix[0]))]\n",
    "    return transposed_matrix"
   ]
  },
  {
   "cell_type": "code",
   "execution_count": 140,
   "metadata": {},
   "outputs": [],
   "source": [
    "def arithmetic_arranger(problems, show_result = False):\n",
    "    if is_valid(problems) ==  True:\n",
    "        matrix = matrix_arranger(problems)\n",
    "        if show_result == True:\n",
    "            answer = result(problems)\n",
    "            matrix.append(answer)\n",
    "        single_str = ''\n",
    "        for i in matrix:\n",
    "            for j in i:\n",
    "                single_str = single_str + j + '    '\n",
    "            single_str = single_str[0:len(single_str) - 4] + '\\n'\n",
    "        return single_str[:len(single_str) - 1]\n",
    "    else:\n",
    "        return is_valid(problems)        "
   ]
  }
 ],
 "metadata": {
  "kernelspec": {
   "display_name": "base",
   "language": "python",
   "name": "python3"
  },
  "language_info": {
   "codemirror_mode": {
    "name": "ipython",
    "version": 3
   },
   "file_extension": ".py",
   "mimetype": "text/x-python",
   "name": "python",
   "nbconvert_exporter": "python",
   "pygments_lexer": "ipython3",
   "version": "3.9.7"
  },
  "orig_nbformat": 4,
  "vscode": {
   "interpreter": {
    "hash": "9b1729b984f5869ec890f7a301c6265cc1aafd301ba322a1360999d2ce4f9a46"
   }
  }
 },
 "nbformat": 4,
 "nbformat_minor": 2
}
